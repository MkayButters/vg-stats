{
 "metadata": {
  "language_info": {
   "codemirror_mode": {
    "name": "ipython",
    "version": 3
   },
   "file_extension": ".py",
   "mimetype": "text/x-python",
   "name": "python",
   "nbconvert_exporter": "python",
   "pygments_lexer": "ipython3",
   "version": "3.9.0-final"
  },
  "orig_nbformat": 2,
  "kernelspec": {
   "name": "python39064bitvenvvenv67eb3a2aee72490e8cd7d5eb18f13e85",
   "display_name": "Python 3.9.0 64-bit ('.venv': venv)"
  }
 },
 "nbformat": 4,
 "nbformat_minor": 2,
 "cells": [
  {
   "source": [
    "Data Analysis with Pandas | Bike Stats | Ryan Pilon Nov 27th, 2020"
   ],
   "cell_type": "markdown",
   "metadata": {}
  },
  {
   "source": [
    "What is the average trip duration for a borrowed bicycle?\n",
    "\n",
    "What’s the most common age of a bicycle-sharer?\n",
    "\n",
    "Given all the weather data here, find the average precipitation per month,{0.105065} and the median precipitation{0.0}.\n",
    "\n",
    "What’s the average number of bikes at a given bike station? between 16 and 17\n",
    "\n",
    "When a bike station is modified, is it more likely that it’ll lose bikes or gain bikes? How do you know? More likely to loose bikes because the average before is higher than the average of the current dockcount.\n",
    "\n",
    "How many stations have been decommisioned since being installed? 4\n",
    "\n",
    "What is the median of the current dock count? 18\n",
    "\n",
    "What is the median of the install dockcount? 18\n",
    "\n"
   ],
   "cell_type": "markdown",
   "metadata": {}
  },
  {
   "source": [
    "import pandas as pd"
   ],
   "cell_type": "code",
   "metadata": {},
   "execution_count": 55,
   "outputs": []
  },
  {
   "source": [
    "station = pd.read_csv(\"station.csv\")\n",
    "weather = pd.read_csv(\"weather.csv\")\n",
    "trip = pd.read_csv(\"trip.csv\", sep = \"csv.Sniffer\")"
   ],
   "cell_type": "code",
   "metadata": {},
   "execution_count": 56,
   "outputs": []
  },
  {
   "cell_type": "code",
   "execution_count": 57,
   "metadata": {},
   "outputs": [
    {
     "output_type": "stream",
     "name": "stdout",
     "text": [
      "<class 'pandas.core.frame.DataFrame'>\nRangeIndex: 58 entries, 0 to 57\nData columns (total 9 columns):\n #   Column             Non-Null Count  Dtype  \n---  ------             --------------  -----  \n 0   station_id         58 non-null     object \n 1   name               58 non-null     object \n 2   lat                58 non-null     float64\n 3   long               58 non-null     float64\n 4   install_date       58 non-null     object \n 5   install_dockcount  58 non-null     int64  \n 6   modification_date  17 non-null     object \n 7   current_dockcount  58 non-null     int64  \n 8   decommission_date  4 non-null      object \ndtypes: float64(2), int64(2), object(5)\nmemory usage: 4.2+ KB\n<class 'pandas.core.frame.DataFrame'>\nRangeIndex: 689 entries, 0 to 688\nData columns (total 21 columns):\n #   Column                      Non-Null Count  Dtype  \n---  ------                      --------------  -----  \n 0   Date                        689 non-null    object \n 1   Max_Temperature_F           689 non-null    int64  \n 2   Mean_Temperature_F          688 non-null    float64\n 3   Min_TemperatureF            689 non-null    int64  \n 4   Max_Dew_Point_F             689 non-null    int64  \n 5   MeanDew_Point_F             689 non-null    int64  \n 6   Min_Dewpoint_F              689 non-null    int64  \n 7   Max_Humidity                689 non-null    int64  \n 8   Mean_Humidity               689 non-null    int64  \n 9   Min_Humidity                689 non-null    int64  \n 10  Max_Sea_Level_Pressure_In   689 non-null    float64\n 11  Mean_Sea_Level_Pressure_In  689 non-null    float64\n 12  Min_Sea_Level_Pressure_In   689 non-null    float64\n 13  Max_Visibility_Miles        689 non-null    int64  \n 14  Mean_Visibility_Miles       689 non-null    int64  \n 15  Min_Visibility_Miles        689 non-null    int64  \n 16  Max_Wind_Speed_MPH          689 non-null    int64  \n 17  Mean_Wind_Speed_MPH         689 non-null    int64  \n 18  Max_Gust_Speed_MPH          504 non-null    object \n 19  Precipitation_In            689 non-null    float64\n 20  Events                      328 non-null    object \ndtypes: float64(5), int64(13), object(3)\nmemory usage: 113.2+ KB\n<class 'pandas.core.frame.DataFrame'>\nRangeIndex: 286858 entries, 0 to 286857\nData columns (total 1 columns):\n #   Column                                                                                                                                                            Non-Null Count   Dtype \n---  ------                                                                                                                                                            --------------   ----- \n 0   \"trip_id\",\"starttime\",\"stoptime\",\"bikeid\",\"tripduration\",\"from_station_name\",\"to_station_name\",\"from_station_id\",\"to_station_id\",\"usertype\",\"gender\",\"birthyear\"  286858 non-null  object\ndtypes: object(1)\nmemory usage: 2.2+ MB\n"
     ]
    }
   ],
   "source": [
    "station.info()\n",
    "weather.info()\n",
    "trip.info()\n"
   ]
  },
  {
   "cell_type": "code",
   "execution_count": 58,
   "metadata": {},
   "outputs": [
    {
     "output_type": "execute_result",
     "data": {
      "text/plain": [
       "Precipitation_In    0.105065\n",
       "dtype: float64"
      ]
     },
     "metadata": {},
     "execution_count": 58
    }
   ],
   "source": [
    "avg_percipitation = weather[[\"Precipitation_In\"]].mean()\n",
    "avg_percipitation"
   ]
  },
  {
   "cell_type": "code",
   "execution_count": 59,
   "metadata": {},
   "outputs": [
    {
     "output_type": "execute_result",
     "data": {
      "text/plain": [
       "Precipitation_In    0.0\n",
       "dtype: float64"
      ]
     },
     "metadata": {},
     "execution_count": 59
    }
   ],
   "source": [
    "median_percipitation = weather[[\"Precipitation_In\"]].median()\n",
    "median_percipitation"
   ]
  },
  {
   "cell_type": "code",
   "execution_count": 60,
   "metadata": {},
   "outputs": [
    {
     "output_type": "execute_result",
     "data": {
      "text/plain": [
       "current_dockcount    16.517241\n",
       "dtype: float64"
      ]
     },
     "metadata": {},
     "execution_count": 60
    }
   ],
   "source": [
    "avg_bikes = station[[\"current_dockcount\"]].mean()\n",
    "avg_bikes"
   ]
  },
  {
   "cell_type": "code",
   "execution_count": 67,
   "metadata": {},
   "outputs": [
    {
     "output_type": "execute_result",
     "data": {
      "text/plain": [
       "   install_date decommission_date\n",
       "0    10/13/2014               NaN\n",
       "1    10/13/2014               NaN\n",
       "2    10/13/2014               NaN\n",
       "3    10/13/2014               NaN\n",
       "4    10/13/2014               NaN\n",
       "5     7/27/2015               NaN\n",
       "6    10/13/2014               NaN\n",
       "7    10/13/2014               NaN\n",
       "8    10/13/2014               NaN\n",
       "9    10/13/2014               NaN\n",
       "10    5/22/2015          8/9/2016\n",
       "11   10/13/2014               NaN\n",
       "12   10/13/2014               NaN\n",
       "13   10/13/2014               NaN\n",
       "14   10/13/2014               NaN\n",
       "15   10/13/2014               NaN\n",
       "16   10/13/2014               NaN\n",
       "17   10/13/2014               NaN\n",
       "18   10/13/2014               NaN\n",
       "19   10/13/2014               NaN\n",
       "20   10/13/2014               NaN\n",
       "21   10/13/2014               NaN\n",
       "22   10/13/2014               NaN\n",
       "23   10/13/2014               NaN\n",
       "24   10/13/2014               NaN\n",
       "25   10/13/2014               NaN\n",
       "26   10/13/2014         3/18/2016\n",
       "27   10/13/2014               NaN\n",
       "28   10/13/2014               NaN\n",
       "29   10/13/2014               NaN\n",
       "30   10/13/2014               NaN\n",
       "31   10/13/2014               NaN\n",
       "32   10/13/2014               NaN\n",
       "33   10/13/2014               NaN\n",
       "34   10/13/2014               NaN\n",
       "35   10/13/2014               NaN\n",
       "36   10/13/2014               NaN\n",
       "37   10/13/2014               NaN\n",
       "38   10/13/2014          7/2/2016\n",
       "39   10/13/2014               NaN\n",
       "40    6/12/2015               NaN\n",
       "41    9/15/2015               NaN\n",
       "42   10/13/2014               NaN\n",
       "43   10/13/2014               NaN\n",
       "44   10/13/2014               NaN\n",
       "45   10/13/2014               NaN\n",
       "46   10/13/2014        10/29/2015\n",
       "47   10/13/2014               NaN\n",
       "48   10/13/2014               NaN\n",
       "49   10/13/2014               NaN\n",
       "50   10/13/2014               NaN\n",
       "51   10/13/2014               NaN\n",
       "52   10/13/2014               NaN\n",
       "53   10/13/2014               NaN\n",
       "54    3/18/2016               NaN\n",
       "55     7/3/2016               NaN\n",
       "56   10/29/2015               NaN\n",
       "57     8/9/2016               NaN"
      ],
      "text/html": "<div>\n<style scoped>\n    .dataframe tbody tr th:only-of-type {\n        vertical-align: middle;\n    }\n\n    .dataframe tbody tr th {\n        vertical-align: top;\n    }\n\n    .dataframe thead th {\n        text-align: right;\n    }\n</style>\n<table border=\"1\" class=\"dataframe\">\n  <thead>\n    <tr style=\"text-align: right;\">\n      <th></th>\n      <th>install_date</th>\n      <th>decommission_date</th>\n    </tr>\n  </thead>\n  <tbody>\n    <tr>\n      <th>0</th>\n      <td>10/13/2014</td>\n      <td>NaN</td>\n    </tr>\n    <tr>\n      <th>1</th>\n      <td>10/13/2014</td>\n      <td>NaN</td>\n    </tr>\n    <tr>\n      <th>2</th>\n      <td>10/13/2014</td>\n      <td>NaN</td>\n    </tr>\n    <tr>\n      <th>3</th>\n      <td>10/13/2014</td>\n      <td>NaN</td>\n    </tr>\n    <tr>\n      <th>4</th>\n      <td>10/13/2014</td>\n      <td>NaN</td>\n    </tr>\n    <tr>\n      <th>5</th>\n      <td>7/27/2015</td>\n      <td>NaN</td>\n    </tr>\n    <tr>\n      <th>6</th>\n      <td>10/13/2014</td>\n      <td>NaN</td>\n    </tr>\n    <tr>\n      <th>7</th>\n      <td>10/13/2014</td>\n      <td>NaN</td>\n    </tr>\n    <tr>\n      <th>8</th>\n      <td>10/13/2014</td>\n      <td>NaN</td>\n    </tr>\n    <tr>\n      <th>9</th>\n      <td>10/13/2014</td>\n      <td>NaN</td>\n    </tr>\n    <tr>\n      <th>10</th>\n      <td>5/22/2015</td>\n      <td>8/9/2016</td>\n    </tr>\n    <tr>\n      <th>11</th>\n      <td>10/13/2014</td>\n      <td>NaN</td>\n    </tr>\n    <tr>\n      <th>12</th>\n      <td>10/13/2014</td>\n      <td>NaN</td>\n    </tr>\n    <tr>\n      <th>13</th>\n      <td>10/13/2014</td>\n      <td>NaN</td>\n    </tr>\n    <tr>\n      <th>14</th>\n      <td>10/13/2014</td>\n      <td>NaN</td>\n    </tr>\n    <tr>\n      <th>15</th>\n      <td>10/13/2014</td>\n      <td>NaN</td>\n    </tr>\n    <tr>\n      <th>16</th>\n      <td>10/13/2014</td>\n      <td>NaN</td>\n    </tr>\n    <tr>\n      <th>17</th>\n      <td>10/13/2014</td>\n      <td>NaN</td>\n    </tr>\n    <tr>\n      <th>18</th>\n      <td>10/13/2014</td>\n      <td>NaN</td>\n    </tr>\n    <tr>\n      <th>19</th>\n      <td>10/13/2014</td>\n      <td>NaN</td>\n    </tr>\n    <tr>\n      <th>20</th>\n      <td>10/13/2014</td>\n      <td>NaN</td>\n    </tr>\n    <tr>\n      <th>21</th>\n      <td>10/13/2014</td>\n      <td>NaN</td>\n    </tr>\n    <tr>\n      <th>22</th>\n      <td>10/13/2014</td>\n      <td>NaN</td>\n    </tr>\n    <tr>\n      <th>23</th>\n      <td>10/13/2014</td>\n      <td>NaN</td>\n    </tr>\n    <tr>\n      <th>24</th>\n      <td>10/13/2014</td>\n      <td>NaN</td>\n    </tr>\n    <tr>\n      <th>25</th>\n      <td>10/13/2014</td>\n      <td>NaN</td>\n    </tr>\n    <tr>\n      <th>26</th>\n      <td>10/13/2014</td>\n      <td>3/18/2016</td>\n    </tr>\n    <tr>\n      <th>27</th>\n      <td>10/13/2014</td>\n      <td>NaN</td>\n    </tr>\n    <tr>\n      <th>28</th>\n      <td>10/13/2014</td>\n      <td>NaN</td>\n    </tr>\n    <tr>\n      <th>29</th>\n      <td>10/13/2014</td>\n      <td>NaN</td>\n    </tr>\n    <tr>\n      <th>30</th>\n      <td>10/13/2014</td>\n      <td>NaN</td>\n    </tr>\n    <tr>\n      <th>31</th>\n      <td>10/13/2014</td>\n      <td>NaN</td>\n    </tr>\n    <tr>\n      <th>32</th>\n      <td>10/13/2014</td>\n      <td>NaN</td>\n    </tr>\n    <tr>\n      <th>33</th>\n      <td>10/13/2014</td>\n      <td>NaN</td>\n    </tr>\n    <tr>\n      <th>34</th>\n      <td>10/13/2014</td>\n      <td>NaN</td>\n    </tr>\n    <tr>\n      <th>35</th>\n      <td>10/13/2014</td>\n      <td>NaN</td>\n    </tr>\n    <tr>\n      <th>36</th>\n      <td>10/13/2014</td>\n      <td>NaN</td>\n    </tr>\n    <tr>\n      <th>37</th>\n      <td>10/13/2014</td>\n      <td>NaN</td>\n    </tr>\n    <tr>\n      <th>38</th>\n      <td>10/13/2014</td>\n      <td>7/2/2016</td>\n    </tr>\n    <tr>\n      <th>39</th>\n      <td>10/13/2014</td>\n      <td>NaN</td>\n    </tr>\n    <tr>\n      <th>40</th>\n      <td>6/12/2015</td>\n      <td>NaN</td>\n    </tr>\n    <tr>\n      <th>41</th>\n      <td>9/15/2015</td>\n      <td>NaN</td>\n    </tr>\n    <tr>\n      <th>42</th>\n      <td>10/13/2014</td>\n      <td>NaN</td>\n    </tr>\n    <tr>\n      <th>43</th>\n      <td>10/13/2014</td>\n      <td>NaN</td>\n    </tr>\n    <tr>\n      <th>44</th>\n      <td>10/13/2014</td>\n      <td>NaN</td>\n    </tr>\n    <tr>\n      <th>45</th>\n      <td>10/13/2014</td>\n      <td>NaN</td>\n    </tr>\n    <tr>\n      <th>46</th>\n      <td>10/13/2014</td>\n      <td>10/29/2015</td>\n    </tr>\n    <tr>\n      <th>47</th>\n      <td>10/13/2014</td>\n      <td>NaN</td>\n    </tr>\n    <tr>\n      <th>48</th>\n      <td>10/13/2014</td>\n      <td>NaN</td>\n    </tr>\n    <tr>\n      <th>49</th>\n      <td>10/13/2014</td>\n      <td>NaN</td>\n    </tr>\n    <tr>\n      <th>50</th>\n      <td>10/13/2014</td>\n      <td>NaN</td>\n    </tr>\n    <tr>\n      <th>51</th>\n      <td>10/13/2014</td>\n      <td>NaN</td>\n    </tr>\n    <tr>\n      <th>52</th>\n      <td>10/13/2014</td>\n      <td>NaN</td>\n    </tr>\n    <tr>\n      <th>53</th>\n      <td>10/13/2014</td>\n      <td>NaN</td>\n    </tr>\n    <tr>\n      <th>54</th>\n      <td>3/18/2016</td>\n      <td>NaN</td>\n    </tr>\n    <tr>\n      <th>55</th>\n      <td>7/3/2016</td>\n      <td>NaN</td>\n    </tr>\n    <tr>\n      <th>56</th>\n      <td>10/29/2015</td>\n      <td>NaN</td>\n    </tr>\n    <tr>\n      <th>57</th>\n      <td>8/9/2016</td>\n      <td>NaN</td>\n    </tr>\n  </tbody>\n</table>\n</div>"
     },
     "metadata": {},
     "execution_count": 67
    }
   ],
   "source": [
    "decommissioned_station = station[[\"install_date\" , \"decommission_date\"]]\n",
    "decommissioned_station"
   ]
  },
  {
   "cell_type": "code",
   "execution_count": 69,
   "metadata": {},
   "outputs": [
    {
     "output_type": "execute_result",
     "data": {
      "text/plain": [
       "current_dockcount    18.0\n",
       "dtype: float64"
      ]
     },
     "metadata": {},
     "execution_count": 69
    }
   ],
   "source": [
    "median_current_dockcount = station[[\"current_dockcount\"]].median()\n",
    "median_current_dockcount"
   ]
  },
  {
   "cell_type": "code",
   "execution_count": 70,
   "metadata": {},
   "outputs": [
    {
     "output_type": "execute_result",
     "data": {
      "text/plain": [
       "install_dockcount    18.0\n",
       "dtype: float64"
      ]
     },
     "metadata": {},
     "execution_count": 70
    }
   ],
   "source": [
    "median_install_dockcount = station[[\"install_dockcount\"]].median()\n",
    "median_install_dockcount"
   ]
  },
  {
   "cell_type": "code",
   "execution_count": null,
   "metadata": {},
   "outputs": [],
   "source": [
    "def test():\n",
    "\n",
    "    def assert_equal(actual,expected):\n",
    "        assert actual == expected, f\"Expected {expected} but got {actual}\"\n",
    "\n",
    "    assert_equal(avg_trip, None)\n",
    "    assert_equal(most_common_age, None)\n",
    "    assert_equal(avg_percipitation, None)\n",
    "    assert_equal(median_percipitation, None)\n",
    "    assert_equal(avg_bikes, None)\n",
    "    assert_equal(decommissioned_station, None)\n",
    "    assert_equal(median_install_dockcount, None)\n",
    "    assert_equal(median_current_dockcount, None)\n",
    "    print(\"Success!!!\")\n",
    "\n",
    "test()"
   ]
  }
 ]
}