{
 "metadata": {
  "language_info": {
   "codemirror_mode": {
    "name": "ipython",
    "version": 3
   },
   "file_extension": ".py",
   "mimetype": "text/x-python",
   "name": "python",
   "nbconvert_exporter": "python",
   "pygments_lexer": "ipython3",
   "version": "3.9.0-final"
  },
  "orig_nbformat": 2,
  "kernelspec": {
   "name": "python39064bitvenvvenv67eb3a2aee72490e8cd7d5eb18f13e85",
   "display_name": "Python 3.9.0 64-bit ('.venv': venv)"
  }
 },
 "nbformat": 4,
 "nbformat_minor": 2,
 "cells": [
  {
   "source": [
    "Data Analysis with Pandas | Video Game Stats | Ryan Pilon Nov. 27th, 2020"
   ],
   "cell_type": "markdown",
   "metadata": {}
  },
  {
   "source": [
    "1. Which company is the most common video game publisher?:    Nintendo\n",
    "2. What’s the most common platform? : Wii\n",
    "\n",
    "3. What about the most common genre? ; Sports\n",
    "\n",
    "4. What are the top 20 highest grossing games? : Wii Sports, Super Mario Bros, Mario Kart Wii, Wii Sports Resort, Pokemon Red/Pokemon Blue, Tetris, New Super Mario Bros. , Wii Play, New Super Mario Bros. Wii, Duck Hunt, Nintendogs, Mario Kart DS, Pokemon Gold/Pokemon Silver, ,Wii Fit, Wii Fit Plus, Kinect Adventures!, Grand Theft Auto V, Grand Theft Auto: San Andreas, Super Mario World, Brain Age: Train Your Brain in Minutes a Day.\n",
    "\n",
    "5. For North American video game sales, what’s the median? 0.08\n",
    "  - Provide a secondary output showing ten games surrounding the median sales output\n",
    "  - assume that games with same median value are sorted in descending order\n",
    "7. For the top-selling game of all time, how many standard deviations above/below the mean are its sales for North America?\n",
    "8. How does its average number of sales compare with all of the other platforms?\n",
    "Come up with 3 more questions that can be answered with this data set."
   ],
   "cell_type": "markdown",
   "metadata": {}
  },
  {
   "cell_type": "code",
   "execution_count": 83,
   "metadata": {},
   "outputs": [],
   "source": [
    "import pandas as pd\n",
    "import numpy as np"
   ]
  },
  {
   "cell_type": "code",
   "execution_count": 84,
   "metadata": {},
   "outputs": [
    {
     "output_type": "stream",
     "name": "stdout",
     "text": [
      "<class 'pandas.core.frame.DataFrame'>\nRangeIndex: 16598 entries, 0 to 16597\nData columns (total 11 columns):\n #   Column        Non-Null Count  Dtype  \n---  ------        --------------  -----  \n 0   Rank          16598 non-null  int64  \n 1   Name          16598 non-null  object \n 2   Platform      16598 non-null  object \n 3   Year          16327 non-null  float64\n 4   Genre         16598 non-null  object \n 5   Publisher     16540 non-null  object \n 6   NA_Sales      16598 non-null  float64\n 7   EU_Sales      16598 non-null  float64\n 8   JP_Sales      16598 non-null  float64\n 9   Other_Sales   16598 non-null  float64\n 10  Global_Sales  16598 non-null  float64\ndtypes: float64(6), int64(1), object(4)\nmemory usage: 1.4+ MB\n"
     ]
    }
   ],
   "source": [
    "video_games = pd.read_csv(\"vgsales.csv\")\n",
    "video_games.info()"
   ]
  },
  {
   "cell_type": "code",
   "execution_count": 93,
   "metadata": {},
   "outputs": [
    {
     "output_type": "execute_result",
     "data": {
      "text/plain": [
       "        Publisher   Rank\n",
       "0        Nintendo      1\n",
       "1        Nintendo      2\n",
       "2        Nintendo      3\n",
       "3        Nintendo      4\n",
       "4        Nintendo      5\n",
       "...           ...    ...\n",
       "16593       Kemco  16596\n",
       "16594  Infogrames  16597\n",
       "16595  Activision  16598\n",
       "16596    7G//AMES  16599\n",
       "16597     Wanadoo  16600\n",
       "\n",
       "[16598 rows x 2 columns]"
      ],
      "text/html": "<div>\n<style scoped>\n    .dataframe tbody tr th:only-of-type {\n        vertical-align: middle;\n    }\n\n    .dataframe tbody tr th {\n        vertical-align: top;\n    }\n\n    .dataframe thead th {\n        text-align: right;\n    }\n</style>\n<table border=\"1\" class=\"dataframe\">\n  <thead>\n    <tr style=\"text-align: right;\">\n      <th></th>\n      <th>Publisher</th>\n      <th>Rank</th>\n    </tr>\n  </thead>\n  <tbody>\n    <tr>\n      <th>0</th>\n      <td>Nintendo</td>\n      <td>1</td>\n    </tr>\n    <tr>\n      <th>1</th>\n      <td>Nintendo</td>\n      <td>2</td>\n    </tr>\n    <tr>\n      <th>2</th>\n      <td>Nintendo</td>\n      <td>3</td>\n    </tr>\n    <tr>\n      <th>3</th>\n      <td>Nintendo</td>\n      <td>4</td>\n    </tr>\n    <tr>\n      <th>4</th>\n      <td>Nintendo</td>\n      <td>5</td>\n    </tr>\n    <tr>\n      <th>...</th>\n      <td>...</td>\n      <td>...</td>\n    </tr>\n    <tr>\n      <th>16593</th>\n      <td>Kemco</td>\n      <td>16596</td>\n    </tr>\n    <tr>\n      <th>16594</th>\n      <td>Infogrames</td>\n      <td>16597</td>\n    </tr>\n    <tr>\n      <th>16595</th>\n      <td>Activision</td>\n      <td>16598</td>\n    </tr>\n    <tr>\n      <th>16596</th>\n      <td>7G//AMES</td>\n      <td>16599</td>\n    </tr>\n    <tr>\n      <th>16597</th>\n      <td>Wanadoo</td>\n      <td>16600</td>\n    </tr>\n  </tbody>\n</table>\n<p>16598 rows × 2 columns</p>\n</div>"
     },
     "metadata": {},
     "execution_count": 93
    }
   ],
   "source": [
    "most_common_publisher = video_games[[\"Publisher\", \"Rank\"]]\n",
    "most_common_publisher"
   ]
  },
  {
   "cell_type": "code",
   "execution_count": 86,
   "metadata": {},
   "outputs": [
    {
     "output_type": "execute_result",
     "data": {
      "text/plain": [
       "      Platform   Rank\n",
       "0          Wii      1\n",
       "1          NES      2\n",
       "2          Wii      3\n",
       "3          Wii      4\n",
       "4           GB      5\n",
       "...        ...    ...\n",
       "16593      GBA  16596\n",
       "16594       GC  16597\n",
       "16595      PS2  16598\n",
       "16596       DS  16599\n",
       "16597      GBA  16600\n",
       "\n",
       "[16598 rows x 2 columns]"
      ],
      "text/html": "<div>\n<style scoped>\n    .dataframe tbody tr th:only-of-type {\n        vertical-align: middle;\n    }\n\n    .dataframe tbody tr th {\n        vertical-align: top;\n    }\n\n    .dataframe thead th {\n        text-align: right;\n    }\n</style>\n<table border=\"1\" class=\"dataframe\">\n  <thead>\n    <tr style=\"text-align: right;\">\n      <th></th>\n      <th>Platform</th>\n      <th>Rank</th>\n    </tr>\n  </thead>\n  <tbody>\n    <tr>\n      <th>0</th>\n      <td>Wii</td>\n      <td>1</td>\n    </tr>\n    <tr>\n      <th>1</th>\n      <td>NES</td>\n      <td>2</td>\n    </tr>\n    <tr>\n      <th>2</th>\n      <td>Wii</td>\n      <td>3</td>\n    </tr>\n    <tr>\n      <th>3</th>\n      <td>Wii</td>\n      <td>4</td>\n    </tr>\n    <tr>\n      <th>4</th>\n      <td>GB</td>\n      <td>5</td>\n    </tr>\n    <tr>\n      <th>...</th>\n      <td>...</td>\n      <td>...</td>\n    </tr>\n    <tr>\n      <th>16593</th>\n      <td>GBA</td>\n      <td>16596</td>\n    </tr>\n    <tr>\n      <th>16594</th>\n      <td>GC</td>\n      <td>16597</td>\n    </tr>\n    <tr>\n      <th>16595</th>\n      <td>PS2</td>\n      <td>16598</td>\n    </tr>\n    <tr>\n      <th>16596</th>\n      <td>DS</td>\n      <td>16599</td>\n    </tr>\n    <tr>\n      <th>16597</th>\n      <td>GBA</td>\n      <td>16600</td>\n    </tr>\n  </tbody>\n</table>\n<p>16598 rows × 2 columns</p>\n</div>"
     },
     "metadata": {},
     "execution_count": 86
    }
   ],
   "source": [
    "most_common_platform = video_games[[\"Platform\", \"Rank\"]]\n",
    "most_common_platform"
   ]
  },
  {
   "cell_type": "code",
   "execution_count": 87,
   "metadata": {},
   "outputs": [
    {
     "output_type": "execute_result",
     "data": {
      "text/plain": [
       "              Genre   Rank\n",
       "0            Sports      1\n",
       "1          Platform      2\n",
       "2            Racing      3\n",
       "3            Sports      4\n",
       "4      Role-Playing      5\n",
       "...             ...    ...\n",
       "16593      Platform  16596\n",
       "16594       Shooter  16597\n",
       "16595        Racing  16598\n",
       "16596        Puzzle  16599\n",
       "16597      Platform  16600\n",
       "\n",
       "[16598 rows x 2 columns]"
      ],
      "text/html": "<div>\n<style scoped>\n    .dataframe tbody tr th:only-of-type {\n        vertical-align: middle;\n    }\n\n    .dataframe tbody tr th {\n        vertical-align: top;\n    }\n\n    .dataframe thead th {\n        text-align: right;\n    }\n</style>\n<table border=\"1\" class=\"dataframe\">\n  <thead>\n    <tr style=\"text-align: right;\">\n      <th></th>\n      <th>Genre</th>\n      <th>Rank</th>\n    </tr>\n  </thead>\n  <tbody>\n    <tr>\n      <th>0</th>\n      <td>Sports</td>\n      <td>1</td>\n    </tr>\n    <tr>\n      <th>1</th>\n      <td>Platform</td>\n      <td>2</td>\n    </tr>\n    <tr>\n      <th>2</th>\n      <td>Racing</td>\n      <td>3</td>\n    </tr>\n    <tr>\n      <th>3</th>\n      <td>Sports</td>\n      <td>4</td>\n    </tr>\n    <tr>\n      <th>4</th>\n      <td>Role-Playing</td>\n      <td>5</td>\n    </tr>\n    <tr>\n      <th>...</th>\n      <td>...</td>\n      <td>...</td>\n    </tr>\n    <tr>\n      <th>16593</th>\n      <td>Platform</td>\n      <td>16596</td>\n    </tr>\n    <tr>\n      <th>16594</th>\n      <td>Shooter</td>\n      <td>16597</td>\n    </tr>\n    <tr>\n      <th>16595</th>\n      <td>Racing</td>\n      <td>16598</td>\n    </tr>\n    <tr>\n      <th>16596</th>\n      <td>Puzzle</td>\n      <td>16599</td>\n    </tr>\n    <tr>\n      <th>16597</th>\n      <td>Platform</td>\n      <td>16600</td>\n    </tr>\n  </tbody>\n</table>\n<p>16598 rows × 2 columns</p>\n</div>"
     },
     "metadata": {},
     "execution_count": 87
    }
   ],
   "source": [
    "most_common_genre = video_games[[\"Genre\" , \"Rank\"]]\n",
    "most_common_genre"
   ]
  },
  {
   "cell_type": "code",
   "execution_count": 95,
   "metadata": {},
   "outputs": [
    {
     "output_type": "error",
     "ename": "AttributeError",
     "evalue": "'DataFrame' object has no attribute 'range'",
     "traceback": [
      "\u001b[0;31m---------------------------------------------------------------------------\u001b[0m",
      "\u001b[0;31mAttributeError\u001b[0m                            Traceback (most recent call last)",
      "\u001b[0;32m<ipython-input-95-00e272fd6ac1>\u001b[0m in \u001b[0;36m<module>\u001b[0;34m\u001b[0m\n\u001b[0;32m----> 1\u001b[0;31m \u001b[0mtop_twenty_highest_grossing_games\u001b[0m \u001b[0;34m=\u001b[0m \u001b[0mvideo_games\u001b[0m\u001b[0;34m[\u001b[0m\u001b[0;34m[\u001b[0m\u001b[0;34m\"Name\"\u001b[0m \u001b[0;34m,\u001b[0m \u001b[0;34m\"Global_Sales\"\u001b[0m\u001b[0;34m]\u001b[0m\u001b[0;34m]\u001b[0m\u001b[0;34m.\u001b[0m\u001b[0mrange\u001b[0m\u001b[0;34m(\u001b[0m\u001b[0;36m0\u001b[0m\u001b[0;34m-\u001b[0m\u001b[0;36m19\u001b[0m\u001b[0;34m)\u001b[0m\u001b[0;34m\u001b[0m\u001b[0;34m\u001b[0m\u001b[0m\n\u001b[0m",
      "\u001b[0;32m~/Documents/projects/codefellows/code401python/vg-stats/.venv/lib/python3.9/site-packages/pandas/core/generic.py\u001b[0m in \u001b[0;36m__getattr__\u001b[0;34m(self, name)\u001b[0m\n\u001b[1;32m   5137\u001b[0m             \u001b[0;32mif\u001b[0m \u001b[0mself\u001b[0m\u001b[0;34m.\u001b[0m\u001b[0m_info_axis\u001b[0m\u001b[0;34m.\u001b[0m\u001b[0m_can_hold_identifiers_and_holds_name\u001b[0m\u001b[0;34m(\u001b[0m\u001b[0mname\u001b[0m\u001b[0;34m)\u001b[0m\u001b[0;34m:\u001b[0m\u001b[0;34m\u001b[0m\u001b[0;34m\u001b[0m\u001b[0m\n\u001b[1;32m   5138\u001b[0m                 \u001b[0;32mreturn\u001b[0m \u001b[0mself\u001b[0m\u001b[0;34m[\u001b[0m\u001b[0mname\u001b[0m\u001b[0;34m]\u001b[0m\u001b[0;34m\u001b[0m\u001b[0;34m\u001b[0m\u001b[0m\n\u001b[0;32m-> 5139\u001b[0;31m             \u001b[0;32mreturn\u001b[0m \u001b[0mobject\u001b[0m\u001b[0;34m.\u001b[0m\u001b[0m__getattribute__\u001b[0m\u001b[0;34m(\u001b[0m\u001b[0mself\u001b[0m\u001b[0;34m,\u001b[0m \u001b[0mname\u001b[0m\u001b[0;34m)\u001b[0m\u001b[0;34m\u001b[0m\u001b[0;34m\u001b[0m\u001b[0m\n\u001b[0m\u001b[1;32m   5140\u001b[0m \u001b[0;34m\u001b[0m\u001b[0m\n\u001b[1;32m   5141\u001b[0m     \u001b[0;32mdef\u001b[0m \u001b[0m__setattr__\u001b[0m\u001b[0;34m(\u001b[0m\u001b[0mself\u001b[0m\u001b[0;34m,\u001b[0m \u001b[0mname\u001b[0m\u001b[0;34m:\u001b[0m \u001b[0mstr\u001b[0m\u001b[0;34m,\u001b[0m \u001b[0mvalue\u001b[0m\u001b[0;34m)\u001b[0m \u001b[0;34m->\u001b[0m \u001b[0;32mNone\u001b[0m\u001b[0;34m:\u001b[0m\u001b[0;34m\u001b[0m\u001b[0;34m\u001b[0m\u001b[0m\n",
      "\u001b[0;31mAttributeError\u001b[0m: 'DataFrame' object has no attribute 'range'"
     ]
    }
   ],
   "source": [
    "top_twenty_highest_grossing_games = video_games[[\"Name\" , \"Global_Sales\"]]\n"
   ]
  },
  {
   "cell_type": "code",
   "execution_count": 89,
   "metadata": {},
   "outputs": [
    {
     "output_type": "execute_result",
     "data": {
      "text/plain": [
       "NA_Sales    0.08\n",
       "dtype: float64"
      ]
     },
     "metadata": {},
     "execution_count": 89
    }
   ],
   "source": [
    "na_median_sales = video_games[[\"NA_Sales\"]].median()\n",
    "na_median_sales"
   ]
  },
  {
   "cell_type": "code",
   "execution_count": 90,
   "metadata": {},
   "outputs": [
    {
     "output_type": "execute_result",
     "data": {
      "text/plain": [
       "   NA_Sales\n",
       "0       0.0"
      ],
      "text/html": "<div>\n<style scoped>\n    .dataframe tbody tr th:only-of-type {\n        vertical-align: middle;\n    }\n\n    .dataframe tbody tr th {\n        vertical-align: top;\n    }\n\n    .dataframe thead th {\n        text-align: right;\n    }\n</style>\n<table border=\"1\" class=\"dataframe\">\n  <thead>\n    <tr style=\"text-align: right;\">\n      <th></th>\n      <th>NA_Sales</th>\n    </tr>\n  </thead>\n  <tbody>\n    <tr>\n      <th>0</th>\n      <td>0.0</td>\n    </tr>\n  </tbody>\n</table>\n</div>"
     },
     "metadata": {},
     "execution_count": 90
    }
   ],
   "source": [
    "mcc = video_games[[\"NA_Sales\"]].mode()\n",
    "mcc"
   ]
  },
  {
   "cell_type": "code",
   "execution_count": 91,
   "metadata": {},
   "outputs": [
    {
     "output_type": "execute_result",
     "data": {
      "text/plain": [
       "                                                    Name  NA_Sales\n",
       "214                             Monster Hunter Freedom 3       0.0\n",
       "338                                    Friend Collection       0.0\n",
       "383                                     Monster Hunter 4       0.0\n",
       "402    English Training: Have Fun Improving Your Skills!       0.0\n",
       "426                 Dragon Quest VI: Maboroshi no Daichi       0.0\n",
       "...                                                  ...       ...\n",
       "16587                           Mezase!! Tsuri Master DS       0.0\n",
       "16589  Chou Ezaru wa Akai Hana: Koi wa Tsuki ni Shiru...       0.0\n",
       "16590  Eiyuu Densetsu: Sora no Kiseki Material Collec...       0.0\n",
       "16595   SCORE International Baja 1000: The Official Game       0.0\n",
       "16596                                         Know How 2       0.0\n",
       "\n",
       "[4499 rows x 2 columns]"
      ],
      "text/html": "<div>\n<style scoped>\n    .dataframe tbody tr th:only-of-type {\n        vertical-align: middle;\n    }\n\n    .dataframe tbody tr th {\n        vertical-align: top;\n    }\n\n    .dataframe thead th {\n        text-align: right;\n    }\n</style>\n<table border=\"1\" class=\"dataframe\">\n  <thead>\n    <tr style=\"text-align: right;\">\n      <th></th>\n      <th>Name</th>\n      <th>NA_Sales</th>\n    </tr>\n  </thead>\n  <tbody>\n    <tr>\n      <th>214</th>\n      <td>Monster Hunter Freedom 3</td>\n      <td>0.0</td>\n    </tr>\n    <tr>\n      <th>338</th>\n      <td>Friend Collection</td>\n      <td>0.0</td>\n    </tr>\n    <tr>\n      <th>383</th>\n      <td>Monster Hunter 4</td>\n      <td>0.0</td>\n    </tr>\n    <tr>\n      <th>402</th>\n      <td>English Training: Have Fun Improving Your Skills!</td>\n      <td>0.0</td>\n    </tr>\n    <tr>\n      <th>426</th>\n      <td>Dragon Quest VI: Maboroshi no Daichi</td>\n      <td>0.0</td>\n    </tr>\n    <tr>\n      <th>...</th>\n      <td>...</td>\n      <td>...</td>\n    </tr>\n    <tr>\n      <th>16587</th>\n      <td>Mezase!! Tsuri Master DS</td>\n      <td>0.0</td>\n    </tr>\n    <tr>\n      <th>16589</th>\n      <td>Chou Ezaru wa Akai Hana: Koi wa Tsuki ni Shiru...</td>\n      <td>0.0</td>\n    </tr>\n    <tr>\n      <th>16590</th>\n      <td>Eiyuu Densetsu: Sora no Kiseki Material Collec...</td>\n      <td>0.0</td>\n    </tr>\n    <tr>\n      <th>16595</th>\n      <td>SCORE International Baja 1000: The Official Game</td>\n      <td>0.0</td>\n    </tr>\n    <tr>\n      <th>16596</th>\n      <td>Know How 2</td>\n      <td>0.0</td>\n    </tr>\n  </tbody>\n</table>\n<p>4499 rows × 2 columns</p>\n</div>"
     },
     "metadata": {},
     "execution_count": 91
    }
   ],
   "source": [
    "ten_median_na_seller_names = video_games[video_games[\"NA_Sales\"] == np.median(mcc)][[\"Name\", \"NA_Sales\"]]\n",
    "ten_median_na_seller_names"
   ]
  },
  {
   "cell_type": "code",
   "execution_count": 94,
   "metadata": {},
   "outputs": [
    {
     "output_type": "error",
     "ename": "ValueError",
     "evalue": "The truth value of a DataFrame is ambiguous. Use a.empty, a.bool(), a.item(), a.any() or a.all().",
     "traceback": [
      "\u001b[0;31m---------------------------------------------------------------------------\u001b[0m",
      "\u001b[0;31mValueError\u001b[0m                                Traceback (most recent call last)",
      "\u001b[0;32m<ipython-input-94-fef480ff4b66>\u001b[0m in \u001b[0;36m<module>\u001b[0;34m\u001b[0m\n\u001b[1;32m     14\u001b[0m     \u001b[0mprint\u001b[0m\u001b[0;34m(\u001b[0m\u001b[0;34m\"Success!!!\"\u001b[0m\u001b[0;34m)\u001b[0m\u001b[0;34m\u001b[0m\u001b[0;34m\u001b[0m\u001b[0m\n\u001b[1;32m     15\u001b[0m \u001b[0;34m\u001b[0m\u001b[0m\n\u001b[0;32m---> 16\u001b[0;31m \u001b[0mtest\u001b[0m\u001b[0;34m(\u001b[0m\u001b[0;34m)\u001b[0m\u001b[0;34m\u001b[0m\u001b[0;34m\u001b[0m\u001b[0m\n\u001b[0m",
      "\u001b[0;32m<ipython-input-94-fef480ff4b66>\u001b[0m in \u001b[0;36mtest\u001b[0;34m()\u001b[0m\n\u001b[1;32m      4\u001b[0m         \u001b[0;32massert\u001b[0m \u001b[0mactual\u001b[0m \u001b[0;34m==\u001b[0m \u001b[0mexpected\u001b[0m\u001b[0;34m,\u001b[0m \u001b[0;34mf\"Expected {expected} but got {actual}\"\u001b[0m\u001b[0;34m\u001b[0m\u001b[0;34m\u001b[0m\u001b[0m\n\u001b[1;32m      5\u001b[0m \u001b[0;34m\u001b[0m\u001b[0m\n\u001b[0;32m----> 6\u001b[0;31m     \u001b[0massert_equal\u001b[0m\u001b[0;34m(\u001b[0m\u001b[0mmost_common_publisher\u001b[0m\u001b[0;34m,\u001b[0m \u001b[0;32mNone\u001b[0m\u001b[0;34m)\u001b[0m\u001b[0;34m\u001b[0m\u001b[0;34m\u001b[0m\u001b[0m\n\u001b[0m\u001b[1;32m      7\u001b[0m     \u001b[0massert_equal\u001b[0m\u001b[0;34m(\u001b[0m\u001b[0mmost_common_platform\u001b[0m\u001b[0;34m,\u001b[0m \u001b[0;32mNone\u001b[0m\u001b[0;34m)\u001b[0m\u001b[0;34m\u001b[0m\u001b[0;34m\u001b[0m\u001b[0m\n\u001b[1;32m      8\u001b[0m     \u001b[0massert_equal\u001b[0m\u001b[0;34m(\u001b[0m\u001b[0mmost_common_genre\u001b[0m\u001b[0;34m,\u001b[0m \u001b[0;32mNone\u001b[0m\u001b[0;34m)\u001b[0m\u001b[0;34m\u001b[0m\u001b[0;34m\u001b[0m\u001b[0m\n",
      "\u001b[0;32m<ipython-input-94-fef480ff4b66>\u001b[0m in \u001b[0;36massert_equal\u001b[0;34m(actual, expected)\u001b[0m\n\u001b[1;32m      2\u001b[0m \u001b[0;34m\u001b[0m\u001b[0m\n\u001b[1;32m      3\u001b[0m     \u001b[0;32mdef\u001b[0m \u001b[0massert_equal\u001b[0m\u001b[0;34m(\u001b[0m\u001b[0mactual\u001b[0m\u001b[0;34m,\u001b[0m\u001b[0mexpected\u001b[0m\u001b[0;34m)\u001b[0m\u001b[0;34m:\u001b[0m\u001b[0;34m\u001b[0m\u001b[0;34m\u001b[0m\u001b[0m\n\u001b[0;32m----> 4\u001b[0;31m         \u001b[0;32massert\u001b[0m \u001b[0mactual\u001b[0m \u001b[0;34m==\u001b[0m \u001b[0mexpected\u001b[0m\u001b[0;34m,\u001b[0m \u001b[0;34mf\"Expected {expected} but got {actual}\"\u001b[0m\u001b[0;34m\u001b[0m\u001b[0;34m\u001b[0m\u001b[0m\n\u001b[0m\u001b[1;32m      5\u001b[0m \u001b[0;34m\u001b[0m\u001b[0m\n\u001b[1;32m      6\u001b[0m     \u001b[0massert_equal\u001b[0m\u001b[0;34m(\u001b[0m\u001b[0mmost_common_publisher\u001b[0m\u001b[0;34m,\u001b[0m \u001b[0;32mNone\u001b[0m\u001b[0;34m)\u001b[0m\u001b[0;34m\u001b[0m\u001b[0;34m\u001b[0m\u001b[0m\n",
      "\u001b[0;32m~/Documents/projects/codefellows/code401python/vg-stats/.venv/lib/python3.9/site-packages/pandas/core/generic.py\u001b[0m in \u001b[0;36m__nonzero__\u001b[0;34m(self)\u001b[0m\n\u001b[1;32m   1327\u001b[0m \u001b[0;34m\u001b[0m\u001b[0m\n\u001b[1;32m   1328\u001b[0m     \u001b[0;32mdef\u001b[0m \u001b[0m__nonzero__\u001b[0m\u001b[0;34m(\u001b[0m\u001b[0mself\u001b[0m\u001b[0;34m)\u001b[0m\u001b[0;34m:\u001b[0m\u001b[0;34m\u001b[0m\u001b[0;34m\u001b[0m\u001b[0m\n\u001b[0;32m-> 1329\u001b[0;31m         raise ValueError(\n\u001b[0m\u001b[1;32m   1330\u001b[0m             \u001b[0;34mf\"The truth value of a {type(self).__name__} is ambiguous. \"\u001b[0m\u001b[0;34m\u001b[0m\u001b[0;34m\u001b[0m\u001b[0m\n\u001b[1;32m   1331\u001b[0m             \u001b[0;34m\"Use a.empty, a.bool(), a.item(), a.any() or a.all().\"\u001b[0m\u001b[0;34m\u001b[0m\u001b[0;34m\u001b[0m\u001b[0m\n",
      "\u001b[0;31mValueError\u001b[0m: The truth value of a DataFrame is ambiguous. Use a.empty, a.bool(), a.item(), a.any() or a.all()."
     ]
    }
   ],
   "source": [
    "def test():\n",
    "\n",
    "    def assert_equal(actual,expected):\n",
    "        assert actual == expected, f\"Expected {expected} but got {actual}\"\n",
    "\n",
    "    assert_equal(most_common_publisher, None)\n",
    "    assert_equal(most_common_platform, None)\n",
    "    assert_equal(most_common_genre, None)\n",
    "    assert_equal(top_twenty_highest_grossing_games.iloc[0].Name, None)\n",
    "    assert_equal(top_twenty_highest_grossing_games.iloc[19].Name, None)\n",
    "    assert_equal(na_median_sales, None)\n",
    "    assert_equal(ten_median_na_seller_names, None)\n",
    "\n",
    "    print(\"Success!!!\")\n",
    "\n",
    "test()"
   ]
  },
  {
   "cell_type": "code",
   "execution_count": null,
   "metadata": {},
   "outputs": [],
   "source": []
  }
 ]
}